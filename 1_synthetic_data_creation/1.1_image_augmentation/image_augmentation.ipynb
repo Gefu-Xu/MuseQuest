{
 "cells": [
  {
   "cell_type": "markdown",
   "metadata": {},
   "source": [
    "## 1. Install Necessary Python Packages"
   ]
  },
  {
   "cell_type": "code",
   "execution_count": 1,
   "metadata": {},
   "outputs": [
    {
     "name": "stdout",
     "output_type": "stream",
     "text": [
      "\u001b[33mWARNING: Running pip as the 'root' user can result in broken permissions and conflicting behaviour with the system package manager, possibly rendering your system unusable.It is recommended to use a virtual environment instead: https://pip.pypa.io/warnings/venv. Use the --root-user-action option if you know what you are doing and want to suppress this warning.\u001b[0m\u001b[33m\n",
      "\u001b[0m\u001b[33mWARNING: Running pip as the 'root' user can result in broken permissions and conflicting behaviour with the system package manager, possibly rendering your system unusable.It is recommended to use a virtual environment instead: https://pip.pypa.io/warnings/venv. Use the --root-user-action option if you know what you are doing and want to suppress this warning.\u001b[0m\u001b[33m\n",
      "\u001b[0m\u001b[33mWARNING: Running pip as the 'root' user can result in broken permissions and conflicting behaviour with the system package manager, possibly rendering your system unusable.It is recommended to use a virtual environment instead: https://pip.pypa.io/warnings/venv. Use the --root-user-action option if you know what you are doing and want to suppress this warning.\u001b[0m\u001b[33m\n",
      "\u001b[0m"
     ]
    }
   ],
   "source": [
    "!python -m pip install -q -U pip            # [optional] upgrade pip\n",
    "!pip install albumentations==2.0.0 -q -U    # install albumentations library for image augmentation\n",
    "!pip install opencv-python==4.11.0.86 -q -U # install OpenCV library for image processing"
   ]
  },
  {
   "cell_type": "markdown",
   "metadata": {},
   "source": [
    "## 2. Restart Kernel to Activate Installed Packages"
   ]
  },
  {
   "cell_type": "markdown",
   "metadata": {},
   "source": [
    "## 3. Define Functions to Augment Images"
   ]
  },
  {
   "cell_type": "code",
   "execution_count": 1,
   "metadata": {},
   "outputs": [
    {
     "name": "stderr",
     "output_type": "stream",
     "text": [
      "/usr/local/lib/python3.11/dist-packages/albumentations/core/validation.py:45: UserWarning: ShiftScaleRotate is a special case of Affine transform. Please use Affine transform instead.\n",
      "  original_init(self, **validated_kwargs)\n"
     ]
    }
   ],
   "source": [
    "import albumentations as A\n",
    "import cv2\n",
    "import os\n",
    "\n",
    "# define an image augmentation pipeline\n",
    "augmentation_pipeline = A.Compose([\n",
    "    A.HorizontalFlip(p=0.5),\n",
    "    A.RandomBrightnessContrast(p=0.5),\n",
    "    A.Rotate(limit=30, p=0.5),\n",
    "    A.ShiftScaleRotate(shift_limit=0.1, scale_limit=0.1, rotate_limit=20, p=0.5),\n",
    "    A.Blur(blur_limit=3, p=0.5)\n",
    "])\n",
    "\n",
    "# define a function to augment 1 original image into 20 augmented versions\n",
    "def augment_image(original_image_file_path, augmented_image_dir, augmented_image_file_name_prefix):\n",
    "    original_image = cv2.imread(original_image_file_path)\n",
    "    for i in range(20):    # generate 20 augmented images from 1 original image\n",
    "        augmented_image = augmentation_pipeline(image=original_image)['image']\n",
    "        augmented_image_file_name = f'{augmented_image_file_name_prefix}-aug{i}.jpg'\n",
    "        augmented_image_file_path = os.path.join(augmented_image_dir, augmented_image_file_name)\n",
    "        cv2.imwrite(augmented_image_file_path, augmented_image)"
   ]
  },
  {
   "cell_type": "markdown",
   "metadata": {},
   "source": [
    "## 4. Augment All Images"
   ]
  },
  {
   "cell_type": "code",
   "execution_count": 2,
   "metadata": {},
   "outputs": [
    {
     "name": "stdout",
     "output_type": "stream",
     "text": [
      "==> Processing ./original_image/1-decadrachm-syracuse-about-400-bce-1.jpg...\n",
      "==> Processing ./original_image/1-decadrachm-syracuse-about-400-bce-2.jpg...\n",
      "==> Processing ./original_image/1903-wright-flyer-1.jpg...\n",
      "==> Processing ./original_image/1903-wright-flyer-14.jpg...\n",
      "==> Processing ./original_image/1903-wright-flyer-16.jpg...\n",
      "==> Processing ./original_image/1903-wright-flyer-17.jpg...\n",
      "==> Processing ./original_image/1926-new-york-yankees-autographed-baseball-1.jpg...\n",
      "==> Processing ./original_image/1926-new-york-yankees-autographed-baseball-4.jpg...\n",
      "==> Processing ./original_image/20-dollars-pattern-united-states-1879-1.jpg...\n",
      "==> Processing ./original_image/20-dollars-pattern-united-states-1879-2.jpg...\n",
      "==> Processing ./original_image/abraham-lincolns-coffee-cup-3.jpg...\n",
      "==> Processing ./original_image/abraham-lincolns-coffee-cup-4.jpg...\n",
      "==> Processing ./original_image/abraham-lincolns-watch-around-1858-1.jpg...\n",
      "==> Processing ./original_image/abraham-lincolns-watch-around-1858-2.jpg...\n",
      "==> Processing ./original_image/abraham-lincolns-watch-around-1858-3.jpg...\n",
      "==> Processing ./original_image/albert-einsteins-pipe-1.jpg...\n",
      "==> Processing ./original_image/alexander-graham-bells-large-box-telephone-1.jpg...\n",
      "==> Processing ./original_image/apollo-17-spacesuit-1.jpg...\n",
      "==> Processing ./original_image/apple-classic-macintosh-personal-computer-1.jpg...\n",
      "==> Processing ./original_image/archie-bunkers-chair-all-family-2.jpg...\n",
      "==> Processing ./original_image/archie-bunkers-chair-all-family-3.jpg...\n",
      "==> Processing ./original_image/beauty-broken-objects-1.jpg...\n",
      "==> Processing ./original_image/black-gold-i-1.jpg...\n",
      "==> Processing ./original_image/chigusa-and-art-tea-1.jpg...\n",
      "==> Processing ./original_image/chigusa-and-art-tea-3.jpg...\n",
      "==> Processing ./original_image/columbia-light-roadster-high-wheel-bicycle-1.jpg...\n",
      "==> Processing ./original_image/cosmic-beadwork-1.jpg...\n",
      "==> Processing ./original_image/crayola-crayons-1.jpg...\n",
      "==> Processing ./original_image/crayola-crayons-3.jpg...\n",
      "==> Processing ./original_image/crayola-crayons-6.jpg...\n",
      "==> Processing ./original_image/design-105-taliesin-line-1.jpg...\n",
      "==> Processing ./original_image/dm-ferry-co-seed-box-1.jpg...\n",
      "==> Processing ./original_image/duncan-genuine-yo-yo-1.jpg...\n",
      "==> Processing ./original_image/duryea-automobile-1.jpg...\n",
      "==> Processing ./original_image/edison-light-bulb-1.jpg...\n",
      "==> Processing ./original_image/evel-knievels-harley-davidson-xr-750-1.jpg...\n",
      "==> Processing ./original_image/finery-feathered-friend-1.jpg...\n",
      "==> Processing ./original_image/fish-going-mobile-1.jpg...\n",
      "==> Processing ./original_image/ford-model-t-snow-attachment-1.jpg...\n",
      "==> Processing ./original_image/george-washington-farewell-address-candle-stand-1.jpg...\n",
      "==> Processing ./original_image/hat-symbolized-life-and-legacy-1.jpg...\n",
      "==> Processing ./original_image/helen-kellers-watch-1.jpg...\n",
      "==> Processing ./original_image/helen-kellers-watch-3.jpg...\n",
      "==> Processing ./original_image/helen-kellers-watch-6.jpg...\n",
      "==> Processing ./original_image/helen-kellers-watch-7.jpg...\n",
      "==> Processing ./original_image/helen-kellers-watch-8.jpg...\n",
      "==> Processing ./original_image/helen-kellers-watch-9.jpg...\n",
      "==> Processing ./original_image/hope-diamond-1.jpg...\n",
      "==> Processing ./original_image/hope-diamond-10.jpg...\n",
      "==> Processing ./original_image/hope-diamond-11.jpg...\n",
      "==> Processing ./original_image/hope-diamond-17.jpg...\n",
      "==> Processing ./original_image/hope-diamond-23.jpg...\n",
      "==> Processing ./original_image/hope-diamond-24.jpg...\n",
      "==> Processing ./original_image/hope-diamond-28.jpg...\n",
      "==> Processing ./original_image/hope-diamond-3.jpg...\n",
      "==> Processing ./original_image/hope-diamond-37.jpg...\n",
      "==> Processing ./original_image/hope-diamond-5.jpg...\n",
      "==> Processing ./original_image/hope-diamond-54.jpg...\n",
      "==> Processing ./original_image/important-pen-civil-rights-history-1.jpg...\n",
      "==> Processing ./original_image/inline-skate-1823-1.jpg...\n",
      "==> Processing ./original_image/kermit-frog-puppet-1.jpg...\n",
      "==> Processing ./original_image/keys-future-1.jpg...\n",
      "==> Processing ./original_image/kiowa-ah-day-1.jpg...\n",
      "==> Processing ./original_image/leah-chase-queen-creole-cuisine-1.jpg...\n",
      "==> Processing ./original_image/lewis-and-clark-expedition-pocket-compass-1.jpg...\n",
      "==> Processing ./original_image/lewis-and-clark-expedition-pocket-compass-4.jpg...\n",
      "==> Processing ./original_image/lewis-and-clark-expedition-pocket-compass-7.jpg...\n",
      "==> Processing ./original_image/life-well-laughed-1.jpg...\n",
      "==> Processing ./original_image/lucky-strike-1.jpg...\n",
      "==> Processing ./original_image/mary-vaux-walcott-natural-artist-1.jpg...\n",
      "==> Processing ./original_image/medal-purple-heart-1.jpg...\n",
      "==> Processing ./original_image/medal-purple-heart-3.jpg...\n",
      "==> Processing ./original_image/mid-century-spin-weaving-1.jpg...\n",
      "==> Processing ./original_image/nakhla-meteorite-fragment-1.jpg...\n",
      "==> Processing ./original_image/nbc-fireside-chat-microphone-1.jpg...\n",
      "==> Processing ./original_image/origin-species-charles-darwin-1.jpg...\n",
      "==> Processing ./original_image/philosophy-meets-motorcycle-maintenance-road-trip-1.jpg...\n",
      "==> Processing ./original_image/plymouth-rock-piece-1.jpg...\n",
      "==> Processing ./original_image/pneumatic-mail-container-1.jpg...\n",
      "==> Processing ./original_image/rock-n-roll-ride-1.jpg...\n",
      "==> Processing ./original_image/serving-holiday-classics-1.jpg...\n",
      "==> Processing ./original_image/sonja-henies-autographed-ice-skates-1.jpg...\n",
      "==> Processing ./original_image/statue-liberty-souvenir-new-york-new-york-1885-3.jpg...\n",
      "==> Processing ./original_image/statue-liberty-souvenir-new-york-new-york-1885-4.jpg...\n",
      "==> Processing ./original_image/statue-liberty-souvenir-new-york-new-york-1885-6.jpg...\n",
      "==> Processing ./original_image/stay-sharp-school-year-1.jpg...\n",
      "==> Processing ./original_image/valley-farms-1.jpg...\n",
      "==> Processing ./original_image/still-rolling-around-1.jpg...\n",
      "==> Processing ./original_image/strong-and-lasting-bond-1.jpg...\n",
      "==> Processing ./original_image/super-bowl-xiv-football-1.jpg...\n",
      "==> Processing ./original_image/teapot-made-peter-bentzon-1.jpg...\n",
      "==> Processing ./original_image/teapot-made-peter-bentzon-11.jpg...\n",
      "==> Processing ./original_image/teapot-made-peter-bentzon-2.jpg...\n",
      "==> Processing ./original_image/teapot-made-peter-bentzon-5.jpg...\n",
      "==> Processing ./original_image/teapot-made-peter-bentzon-7.jpg...\n",
      "==> Processing ./original_image/teapot-made-peter-bentzon-8.jpg...\n",
      "==> Processing ./original_image/teapot-made-peter-bentzon-9.jpg...\n",
      "==> Processing ./original_image/telescoping-shopping-cart-1.jpg...\n",
      "==> Processing ./original_image/thomas-jeffersons-desk-1.jpg...\n",
      "==> Processing ./original_image/thomas-jeffersons-desk-12.jpg...\n",
      "==> Processing ./original_image/thomas-jeffersons-desk-3.jpg...\n",
      "==> Processing ./original_image/thomas-jeffersons-desk-6.jpg...\n",
      "==> Processing ./original_image/thomas-jeffersons-desk-8.jpg...\n",
      "==> Processing ./original_image/thomas-jeffersons-desk-9.jpg...\n",
      "==> Processing ./original_image/ulysses-s-grants-chair-appomattox-2.jpg...\n",
      "==> Processing ./original_image/universal-access-flag-lap-blanket-1.jpg...\n",
      "==> Processing ./original_image/vallenato-makes-history-smithsonian-1.jpg...\n",
      "==> Processing ./original_image/weathervane-teapot-1.jpg...\n",
      "==> Processing ./original_image/witness-war-1.jpg...\n"
     ]
    }
   ],
   "source": [
    "from glob import glob\n",
    "\n",
    "original_image_dir = './original_image'\n",
    "augmented_image_dir = './augmented_image'\n",
    "os.makedirs(augmented_image_dir, exist_ok=True)\n",
    "\n",
    "original_image_file_paths = glob(os.path.join(original_image_dir, '*.*')) # search all original images\n",
    "for original_image_file_path in original_image_file_paths:\n",
    "    print(f'==> Processing {original_image_file_path}...')\n",
    "    augmented_image_file_name_prefix = os.path.splitext(os.path.basename(original_image_file_path))[0]\n",
    "    augment_image(original_image_file_path, augmented_image_dir, augmented_image_file_name_prefix)"
   ]
  },
  {
   "cell_type": "code",
   "execution_count": null,
   "metadata": {},
   "outputs": [],
   "source": []
  }
 ],
 "metadata": {
  "kernelspec": {
   "display_name": "Python 3 (ipykernel)",
   "language": "python",
   "name": "python3"
  },
  "language_info": {
   "codemirror_mode": {
    "name": "ipython",
    "version": 3
   },
   "file_extension": ".py",
   "mimetype": "text/x-python",
   "name": "python",
   "nbconvert_exporter": "python",
   "pygments_lexer": "ipython3",
   "version": "3.11.10"
  }
 },
 "nbformat": 4,
 "nbformat_minor": 4
}
